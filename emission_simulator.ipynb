{
 "cells": [
  {
   "cell_type": "markdown",
   "id": "43d9d7a6-b783-410f-a03e-abb6aaab3c32",
   "metadata": {},
   "source": [
    "# Emission simulator"
   ]
  },
  {
   "cell_type": "markdown",
   "id": "4efa3bb7-c962-460f-b1a9-e6a7c0f3e617",
   "metadata": {},
   "source": [
    "This notebook implements an emission simulator which simulates emission changes in data center operations. Note that it is relatively hard to get accurate data from individual data centers. This simulator is just for demonstration and it does not have an actual scientific background."
   ]
  },
  {
   "cell_type": "code",
   "execution_count": null,
   "id": "40bfc10d-e30b-4a6d-9931-63e4b625e4fd",
   "metadata": {},
   "outputs": [],
   "source": [
    "import random\n",
    "\n",
    "def emission_simulator(variable1, variable2, cloud_partners, workload):\n",
    "    simulated_carbon_footprint = 1\n",
    "    emission_factor = 1\n",
    "    workload_type_in_process = None\n",
    "    \n",
    "    source_data_center_id = variable1[1]\n",
    "    work_in_process = variable2[0]\n",
    "    target_data_center_id = variable2[1]\n",
    "    \n",
    "    for work in workload:\n",
    "        if work[\"work_id\"] == int(work_in_process):\n",
    "            emission_factor = work[\"emission_factor\"]\n",
    "            workload_type_in_process = work[\"work_type\"]\n",
    "    \n",
    "    for partner in cloud_partners:\n",
    "        for center in partner[\"data_centers\"]:\n",
    "            if target_data_center_id == center[\"center_id\"]:\n",
    "                for workload_type in center[\"workload_dependent_emissions\"]:\n",
    "                    if workload_type_in_process == workload_type[\"workload_type\"]:\n",
    "                        interval = workload_type[\"emission_interval\"]\n",
    "                        #print(interval)\n",
    "                        simulated_carbon_footprint = emission_factor*random.uniform(interval[0], interval[1])\n",
    "            \n",
    "    return simulated_carbon_footprint"
   ]
  }
 ],
 "metadata": {
  "kernelspec": {
   "display_name": "Python 3 (ipykernel)",
   "language": "python",
   "name": "python3"
  },
  "language_info": {
   "codemirror_mode": {
    "name": "ipython",
    "version": 3
   },
   "file_extension": ".py",
   "mimetype": "text/x-python",
   "name": "python",
   "nbconvert_exporter": "python",
   "pygments_lexer": "ipython3",
   "version": "3.10.2"
  }
 },
 "nbformat": 4,
 "nbformat_minor": 5
}
