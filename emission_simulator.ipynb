{
 "cells": [
  {
   "cell_type": "markdown",
   "id": "43d9d7a6-b783-410f-a03e-abb6aaab3c32",
   "metadata": {},
   "source": [
    "# Emission simulator"
   ]
  },
  {
   "cell_type": "markdown",
   "id": "4efa3bb7-c962-460f-b1a9-e6a7c0f3e617",
   "metadata": {},
   "source": [
    "This notebook implements an emission simulator which simulates emission changes in data center operations. Note that it is relatively hard to get accurate data from individual data centers. This simulator is just for demonstration and it does not have actual scientific background."
   ]
  },
  {
   "cell_type": "code",
   "execution_count": null,
   "id": "40bfc10d-e30b-4a6d-9931-63e4b625e4fd",
   "metadata": {},
   "outputs": [],
   "source": [
    "def emission_simulator(variable1, variable2):\n",
    "    return 1"
   ]
  }
 ],
 "metadata": {
  "kernelspec": {
   "display_name": "Python 3 (ipykernel)",
   "language": "python",
   "name": "python3"
  },
  "language_info": {
   "codemirror_mode": {
    "name": "ipython",
    "version": 3
   },
   "file_extension": ".py",
   "mimetype": "text/x-python",
   "name": "python",
   "nbconvert_exporter": "python",
   "pygments_lexer": "ipython3",
   "version": "3.10.2"
  }
 },
 "nbformat": 4,
 "nbformat_minor": 5
}
