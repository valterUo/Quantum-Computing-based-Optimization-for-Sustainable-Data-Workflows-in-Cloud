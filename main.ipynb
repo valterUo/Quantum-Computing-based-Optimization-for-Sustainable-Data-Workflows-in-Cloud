{
 "cells": [
  {
   "cell_type": "markdown",
   "id": "8efbf523-c6b1-4440-9299-15c09173fbea",
   "metadata": {},
   "source": [
    "# Quantum Computing -based Optimization for Sustainable Data Workflows in Cloud Infrastructures"
   ]
  },
  {
   "cell_type": "markdown",
   "id": "fefe6037-7843-4083-8215-675d97aa952b",
   "metadata": {},
   "source": [
    "by [Valter Uotila](https://researchportal.helsinki.fi/en/persons/valter-johan-edvard-uotila), PhD student, [Unified Database Management Systems](https://www2.helsinki.fi/en/researchgroups/unified-database-management-systems-udbms/news), University of Helsinki"
   ]
  },
  {
   "cell_type": "markdown",
   "id": "5be83192-8331-4177-ab26-d4a37ad81e97",
   "metadata": {},
   "source": [
    "This is necessarily just a specified and modified the shortest path finding applied to the problem presented in the document that comes along with the implementation."
   ]
  },
  {
   "cell_type": "markdown",
   "id": "e774c742-8f1d-4edf-af43-af3866b25424",
   "metadata": {},
   "source": [
    "Possible quantum software-harware combinations to solve the problem:\n",
    "\n",
    "1. Amazon Braket's D-Wave — Advantage and D-Wave — 2000Q\n",
    "    1. Ocean implementation of this code\n",
    "2. Amazon Braket's IonQ and Rigetti machines\n",
    "    1. Qiskit implementation of this code\n",
    "3. Amazon Braket's simulators\n",
    "    1. Qiskit implementation of this code\n",
    "4. D-wave's Leap Advantage\n",
    "    1. Ocean implementation of this code\n",
    "5. IBM Quantum systems\n",
    "    1. Qiskit implementation of this code\n",
    "6. Local machine\n",
    "    1. Both Ocean and Qiskit versions"
   ]
  },
  {
   "cell_type": "markdown",
   "id": "87f7b9f0-1c98-423f-aa21-701a50d6f5c7",
   "metadata": {},
   "source": [
    "Because I am familiar with the Ocean framework and it is specially designed for formulating QUBOs, I initially formulated the problem using it."
   ]
  },
  {
   "cell_type": "code",
   "execution_count": 1,
   "id": "cd3c7485-15bb-4983-aef2-cbdd4d1aac38",
   "metadata": {},
   "outputs": [],
   "source": [
    "import dimod\n",
    "from dimod.generators.constraints import combinations\n",
    "\n",
    "from dwave.system import LeapHybridSampler\n",
    "from hybrid.reference import KerberosSampler\n",
    "\n",
    "import json\n",
    "import itertools\n",
    "import os\n",
    "import math\n",
    "\n",
    "from ipynb.fs.defs.emission_simulator import emission_simulator\n",
    "\n",
    "notebook_path = os.path.abspath(\"main.ipynb\")\n",
    "\n",
    "def append_linear_safe(variable, value, linear_dict):\n",
    "    if variable in linear_dict.keys():\n",
    "        linear_dict[variable] = linear_dict[variable] + value\n",
    "    else:\n",
    "        linear_dict[variable] = value\n",
    "\n",
    "def append_quadratic_safe(variable, value, quadratic_dict):\n",
    "    if variable in quadratic_dict.keys():\n",
    "        quadratic_dict[variable] = quadratic_dict[variable] + value\n",
    "    else:\n",
    "        quadratic_dict[variable] = value"
   ]
  },
  {
   "cell_type": "markdown",
   "id": "dce68ea1-d49c-4060-9f94-739a02b61a6e",
   "metadata": {},
   "source": [
    "## Importing data"
   ]
  },
  {
   "cell_type": "code",
   "execution_count": 2,
   "id": "79ab1f70-b45b-4362-bc5f-68999bb694b6",
   "metadata": {},
   "outputs": [],
   "source": [
    "cloud_partners_file_path = os.path.join(os.path.dirname(notebook_path), \"data/cloud_partners.json\")\n",
    "f = open(cloud_partners_file_path)\n",
    "partners_root = json.load(f)\n",
    "cloud_partners = partners_root[\"cloud_partners\"]\n",
    "\n",
    "workload_name = \"workload1.json\"\n",
    "workload_file_path = os.path.join(os.path.dirname(notebook_path), \"data/workloads/\" + workload_name)\n",
    "f = open(workload_file_path)\n",
    "workload_root = json.load(f)\n",
    "workload = workload_root[\"workload\"]\n",
    "\n",
    "#print(cloud_partners)\n",
    "#print(workload)"
   ]
  },
  {
   "cell_type": "markdown",
   "id": "fa518671-f5cc-43b3-8cbd-363d8a30f06e",
   "metadata": {},
   "source": [
    "## Creating variables for the binary quadratic model"
   ]
  },
  {
   "cell_type": "markdown",
   "id": "8b74690d-32f8-4e23-bea3-4710042fcf4b",
   "metadata": {},
   "source": [
    "We defined variables to be $ x_{i,j} = (w_i, d_j) $."
   ]
  },
  {
   "cell_type": "code",
   "execution_count": 3,
   "id": "dd702685-2279-4e62-9ce2-3af9de8b92a0",
   "metadata": {},
   "outputs": [],
   "source": [
    "vartype = dimod.BINARY\n",
    "bqm = dimod.BinaryQuadraticModel({}, {}, 0.0, vartype)\n",
    "variables = dict()\n",
    "workload_order = []\n",
    "\n",
    "# We assume that any work can be executed on any data center\n",
    "for work in workload:\n",
    "    variables[str(work[\"work_id\"])] = list()\n",
    "    workload_order.append(str(work[\"work_id\"]))\n",
    "    for partner in cloud_partners:\n",
    "        for center in partner[\"data_centers\"]:\n",
    "            # The each key in the variables dictionary corresponds to a level in a tree i.e. a time step in the workflow\n",
    "            variables[str(work[\"work_id\"])].append((str(work[\"work_id\"]), center[\"center_id\"]))\n",
    "            \n",
    "#print(json.dumps(variables, indent=1))"
   ]
  },
  {
   "cell_type": "markdown",
   "id": "1c6199eb-3f5e-4e91-a882-ff80136fcbcb",
   "metadata": {},
   "source": [
    "## Constructing constraints "
   ]
  },
  {
   "cell_type": "markdown",
   "id": "a0502bff-f291-45b0-a710-a0c5b153fef7",
   "metadata": {},
   "source": [
    "### Constraint 1"
   ]
  },
  {
   "cell_type": "markdown",
   "id": "c7801573-9127-4f54-ad3b-28aca620ac5a",
   "metadata": {},
   "source": [
    "This constraint implements the requirement that for every work $ w_i $ we have exactly one variable $ x_{i,j} = (w_i, d_j) = 1$. In other words, this means that every work is executed on a single data center."
   ]
  },
  {
   "cell_type": "code",
   "execution_count": 4,
   "id": "8c7bc9f9-b944-4fbe-8069-2ccc3680b11d",
   "metadata": {},
   "outputs": [],
   "source": [
    "strength = 3.0\n",
    "for work_id in variables:\n",
    "    one_work_bqm = combinations(variables[work_id], 1, strength=strength)\n",
    "    bqm.update(one_work_bqm)"
   ]
  },
  {
   "cell_type": "markdown",
   "id": "fcdbdb8a-44b2-4c36-aa22-b44f490355b4",
   "metadata": {},
   "source": [
    "### Constraint 2"
   ]
  },
  {
   "cell_type": "markdown",
   "id": "7e2c4051-e147-4517-8176-0bc3efaab475",
   "metadata": {},
   "source": [
    "This constraint implements the requirement that for every pair of variables $x_{i,j} = (w_i, d_j)$ and $x_{i+1,k} = (w_{i+1}, d_k)$ we associate the (estimated emission) coefficient $e(x_{i,j}, x_{i+1,k})$. This coefficient is calculated in emission_simulator function. Note that we need to calculate this only for those pairs, where the works $w_i$ and $w_{i+1}$ are consecutive works in the workload."
   ]
  },
  {
   "cell_type": "code",
   "execution_count": 5,
   "id": "405cb56c-74e8-4769-ad68-181fef27f997",
   "metadata": {},
   "outputs": [
    {
     "name": "stdout",
     "output_type": "stream",
     "text": [
      "BinaryQuadraticModel({('0', '00'): -3.0, ('0', '10'): -3.0, ('0', '20'): -3.0, ('0', '30'): -3.0, ('0', '40'): -3.0, ('1', '00'): -3.0, ('1', '10'): -3.0, ('1', '20'): -3.0, ('1', '30'): -3.0, ('1', '40'): -3.0, ('2', '00'): -3.0, ('2', '10'): -3.0, ('2', '20'): -3.0, ('2', '30'): -3.0, ('2', '40'): -3.0, ('3', '00'): -3.0, ('3', '10'): -3.0, ('3', '20'): -3.0, ('3', '30'): -3.0, ('3', '40'): -3.0, ('4', '00'): -3.0, ('4', '10'): -3.0, ('4', '20'): -3.0, ('4', '30'): -3.0, ('4', '40'): -3.0, ('5', '00'): -3.0, ('5', '10'): -3.0, ('5', '20'): -3.0, ('5', '30'): -3.0, ('5', '40'): -3.0}, {(('0', '10'), ('0', '00')): 6.0, (('0', '20'), ('0', '00')): 6.0, (('0', '20'), ('0', '10')): 6.0, (('0', '30'), ('0', '00')): 6.0, (('0', '30'), ('0', '10')): 6.0, (('0', '30'), ('0', '20')): 6.0, (('0', '40'), ('0', '00')): 6.0, (('0', '40'), ('0', '10')): 6.0, (('0', '40'), ('0', '20')): 6.0, (('0', '40'), ('0', '30')): 6.0, (('1', '00'), ('0', '00')): 1.0, (('1', '00'), ('0', '10')): 1.0, (('1', '00'), ('0', '20')): 1.0, (('1', '00'), ('0', '30')): 1.0, (('1', '00'), ('0', '40')): 1.0, (('1', '10'), ('0', '00')): 1.0, (('1', '10'), ('0', '10')): 1.0, (('1', '10'), ('0', '20')): 1.0, (('1', '10'), ('0', '30')): 1.0, (('1', '10'), ('0', '40')): 1.0, (('1', '10'), ('1', '00')): 6.0, (('1', '20'), ('0', '00')): 1.0, (('1', '20'), ('0', '10')): 1.0, (('1', '20'), ('0', '20')): 1.0, (('1', '20'), ('0', '30')): 1.0, (('1', '20'), ('0', '40')): 1.0, (('1', '20'), ('1', '00')): 6.0, (('1', '20'), ('1', '10')): 6.0, (('1', '30'), ('0', '00')): 1.0, (('1', '30'), ('0', '10')): 1.0, (('1', '30'), ('0', '20')): 1.0, (('1', '30'), ('0', '30')): 1.0, (('1', '30'), ('0', '40')): 1.0, (('1', '30'), ('1', '00')): 6.0, (('1', '30'), ('1', '10')): 6.0, (('1', '30'), ('1', '20')): 6.0, (('1', '40'), ('0', '00')): 1.0, (('1', '40'), ('0', '10')): 1.0, (('1', '40'), ('0', '20')): 1.0, (('1', '40'), ('0', '30')): 1.0, (('1', '40'), ('0', '40')): 1.0, (('1', '40'), ('1', '00')): 6.0, (('1', '40'), ('1', '10')): 6.0, (('1', '40'), ('1', '20')): 6.0, (('1', '40'), ('1', '30')): 6.0, (('2', '00'), ('1', '00')): 1.0, (('2', '00'), ('1', '10')): 1.0, (('2', '00'), ('1', '20')): 1.0, (('2', '00'), ('1', '30')): 1.0, (('2', '00'), ('1', '40')): 1.0, (('2', '10'), ('1', '00')): 1.0, (('2', '10'), ('1', '10')): 1.0, (('2', '10'), ('1', '20')): 1.0, (('2', '10'), ('1', '30')): 1.0, (('2', '10'), ('1', '40')): 1.0, (('2', '10'), ('2', '00')): 6.0, (('2', '20'), ('1', '00')): 1.0, (('2', '20'), ('1', '10')): 1.0, (('2', '20'), ('1', '20')): 1.0, (('2', '20'), ('1', '30')): 1.0, (('2', '20'), ('1', '40')): 1.0, (('2', '20'), ('2', '00')): 6.0, (('2', '20'), ('2', '10')): 6.0, (('2', '30'), ('1', '00')): 1.0, (('2', '30'), ('1', '10')): 1.0, (('2', '30'), ('1', '20')): 1.0, (('2', '30'), ('1', '30')): 1.0, (('2', '30'), ('1', '40')): 1.0, (('2', '30'), ('2', '00')): 6.0, (('2', '30'), ('2', '10')): 6.0, (('2', '30'), ('2', '20')): 6.0, (('2', '40'), ('1', '00')): 1.0, (('2', '40'), ('1', '10')): 1.0, (('2', '40'), ('1', '20')): 1.0, (('2', '40'), ('1', '30')): 1.0, (('2', '40'), ('1', '40')): 1.0, (('2', '40'), ('2', '00')): 6.0, (('2', '40'), ('2', '10')): 6.0, (('2', '40'), ('2', '20')): 6.0, (('2', '40'), ('2', '30')): 6.0, (('3', '00'), ('2', '00')): 1.0, (('3', '00'), ('2', '10')): 1.0, (('3', '00'), ('2', '20')): 1.0, (('3', '00'), ('2', '30')): 1.0, (('3', '00'), ('2', '40')): 1.0, (('3', '10'), ('2', '00')): 1.0, (('3', '10'), ('2', '10')): 1.0, (('3', '10'), ('2', '20')): 1.0, (('3', '10'), ('2', '30')): 1.0, (('3', '10'), ('2', '40')): 1.0, (('3', '10'), ('3', '00')): 6.0, (('3', '20'), ('2', '00')): 1.0, (('3', '20'), ('2', '10')): 1.0, (('3', '20'), ('2', '20')): 1.0, (('3', '20'), ('2', '30')): 1.0, (('3', '20'), ('2', '40')): 1.0, (('3', '20'), ('3', '00')): 6.0, (('3', '20'), ('3', '10')): 6.0, (('3', '30'), ('2', '00')): 1.0, (('3', '30'), ('2', '10')): 1.0, (('3', '30'), ('2', '20')): 1.0, (('3', '30'), ('2', '30')): 1.0, (('3', '30'), ('2', '40')): 1.0, (('3', '30'), ('3', '00')): 6.0, (('3', '30'), ('3', '10')): 6.0, (('3', '30'), ('3', '20')): 6.0, (('3', '40'), ('2', '00')): 1.0, (('3', '40'), ('2', '10')): 1.0, (('3', '40'), ('2', '20')): 1.0, (('3', '40'), ('2', '30')): 1.0, (('3', '40'), ('2', '40')): 1.0, (('3', '40'), ('3', '00')): 6.0, (('3', '40'), ('3', '10')): 6.0, (('3', '40'), ('3', '20')): 6.0, (('3', '40'), ('3', '30')): 6.0, (('4', '00'), ('3', '00')): 1.0, (('4', '00'), ('3', '10')): 1.0, (('4', '00'), ('3', '20')): 1.0, (('4', '00'), ('3', '30')): 1.0, (('4', '00'), ('3', '40')): 1.0, (('4', '10'), ('3', '00')): 1.0, (('4', '10'), ('3', '10')): 1.0, (('4', '10'), ('3', '20')): 1.0, (('4', '10'), ('3', '30')): 1.0, (('4', '10'), ('3', '40')): 1.0, (('4', '10'), ('4', '00')): 6.0, (('4', '20'), ('3', '00')): 1.0, (('4', '20'), ('3', '10')): 1.0, (('4', '20'), ('3', '20')): 1.0, (('4', '20'), ('3', '30')): 1.0, (('4', '20'), ('3', '40')): 1.0, (('4', '20'), ('4', '00')): 6.0, (('4', '20'), ('4', '10')): 6.0, (('4', '30'), ('3', '00')): 1.0, (('4', '30'), ('3', '10')): 1.0, (('4', '30'), ('3', '20')): 1.0, (('4', '30'), ('3', '30')): 1.0, (('4', '30'), ('3', '40')): 1.0, (('4', '30'), ('4', '00')): 6.0, (('4', '30'), ('4', '10')): 6.0, (('4', '30'), ('4', '20')): 6.0, (('4', '40'), ('3', '00')): 1.0, (('4', '40'), ('3', '10')): 1.0, (('4', '40'), ('3', '20')): 1.0, (('4', '40'), ('3', '30')): 1.0, (('4', '40'), ('3', '40')): 1.0, (('4', '40'), ('4', '00')): 6.0, (('4', '40'), ('4', '10')): 6.0, (('4', '40'), ('4', '20')): 6.0, (('4', '40'), ('4', '30')): 6.0, (('5', '00'), ('4', '00')): 1.0, (('5', '00'), ('4', '10')): 1.0, (('5', '00'), ('4', '20')): 1.0, (('5', '00'), ('4', '30')): 1.0, (('5', '00'), ('4', '40')): 1.0, (('5', '10'), ('4', '00')): 1.0, (('5', '10'), ('4', '10')): 1.0, (('5', '10'), ('4', '20')): 1.0, (('5', '10'), ('4', '30')): 1.0, (('5', '10'), ('4', '40')): 1.0, (('5', '10'), ('5', '00')): 6.0, (('5', '20'), ('4', '00')): 1.0, (('5', '20'), ('4', '10')): 1.0, (('5', '20'), ('4', '20')): 1.0, (('5', '20'), ('4', '30')): 1.0, (('5', '20'), ('4', '40')): 1.0, (('5', '20'), ('5', '00')): 6.0, (('5', '20'), ('5', '10')): 6.0, (('5', '30'), ('4', '00')): 1.0, (('5', '30'), ('4', '10')): 1.0, (('5', '30'), ('4', '20')): 1.0, (('5', '30'), ('4', '30')): 1.0, (('5', '30'), ('4', '40')): 1.0, (('5', '30'), ('5', '00')): 6.0, (('5', '30'), ('5', '10')): 6.0, (('5', '30'), ('5', '20')): 6.0, (('5', '40'), ('4', '00')): 1.0, (('5', '40'), ('4', '10')): 1.0, (('5', '40'), ('4', '20')): 1.0, (('5', '40'), ('4', '30')): 1.0, (('5', '40'), ('4', '40')): 1.0, (('5', '40'), ('5', '00')): 6.0, (('5', '40'), ('5', '10')): 6.0, (('5', '40'), ('5', '20')): 6.0, (('5', '40'), ('5', '30')): 6.0}, 18.0, 'BINARY')\n"
     ]
    }
   ],
   "source": [
    "A = 1\n",
    "linear = dict()\n",
    "quadratic = dict()\n",
    "offset = 0.0\n",
    "\n",
    "for work_id_current in range(len(workload_order) - 1):\n",
    "    work_id_next = work_id_current + 1\n",
    "    \n",
    "    key_current = workload_order[work_id_current]\n",
    "    key_next = workload_order[work_id_next]\n",
    "    \n",
    "    for work1 in variables[key_current]:\n",
    "        for work2 in variables[key_next]:\n",
    "            coeff = emission_simulator(work1, work2)\n",
    "            #print(\"Works\", work1, work2)\n",
    "            #print(\"Coefficient\", coeff)\n",
    "            append_quadratic_safe((work1, work2), coeff, quadratic)\n",
    "    \n",
    "bqm_c2 = dimod.BinaryQuadraticModel(linear, quadratic, offset, vartype)\n",
    "bqm_c2.scale(A)\n",
    "bqm.update(bqm_c2)\n",
    "#print(bqm)\n",
    "#print(bqm.to_numpy_vectors())"
   ]
  },
  {
   "cell_type": "markdown",
   "id": "81669a77-55bb-4fcd-baab-b256c2baa47e",
   "metadata": {},
   "source": [
    "## Updating BQM while workflow proceeds"
   ]
  },
  {
   "cell_type": "markdown",
   "id": "e6190528-392a-4a0e-b4ff-4f1e633b66bf",
   "metadata": {},
   "source": [
    "To make the problem and solution less non-trivial, we include the time component in the algorithm. One time step means that we have executed a single work on some of the data centers. At each time step, we check the current situation how sustainable way the data centers are running. For example, weather conditions (wind and amount of water in rivers, etc.) affect the production of green energy, and the data center's machines' characteristics determine part of the emissions. In real-life cases, the other workloads affect the decision, and we might need to switch to another data center. This demonstration possibly modifies these conditions more than they vary in real-life but this demonstrates how the algorithm works."
   ]
  },
  {
   "cell_type": "code",
   "execution_count": 6,
   "id": "92efd0af-1076-49dc-a806-34403f430e08",
   "metadata": {},
   "outputs": [],
   "source": [
    "def update(bqm):\n",
    "    return None"
   ]
  },
  {
   "cell_type": "markdown",
   "id": "0da83177-51ac-4765-a36c-ab4a85a686e4",
   "metadata": {},
   "source": [
    "## Demonstrating algorithm"
   ]
  },
  {
   "cell_type": "code",
   "execution_count": 7,
   "id": "bae0586e-e308-4b09-a492-7fde27d5ec25",
   "metadata": {},
   "outputs": [
    {
     "name": "stdout",
     "output_type": "stream",
     "text": [
      "\n",
      "Result\n",
      "('0', '20') 1\n",
      "('1', '30') 1\n",
      "('2', '30') 1\n",
      "('3', '40') 1\n",
      "('4', '00') 1\n",
      "('5', '30') 1\n"
     ]
    }
   ],
   "source": [
    "#bqm.normalize()\n",
    "#print(bqm)\n",
    "\n",
    "kerberos_sampler = KerberosSampler().sample(bqm, max_iter=10, convergence=3, qpu_params={'label': 'Data workflow optimization'})\n",
    "sample = kerberos_sampler.first.sample\n",
    "\n",
    "#sampler = LeapHybridSampler()\n",
    "#sampleset = sampler.sample(bqm)\n",
    "#sample = sampleset.first.sample\n",
    "\n",
    "#print(sampleset)\n",
    "#print(best_solution)\n",
    "#sample = best_solution\n",
    "print()\n",
    "# energy = sampleset.first.energy\n",
    "print(\"Result\")\n",
    "i = 0\n",
    "for varname, value in sample.items():\n",
    "    if value == 1:\n",
    "        i+=1\n",
    "        print(varname, value)\n",
    "#print(i)"
   ]
  },
  {
   "cell_type": "markdown",
   "id": "322e5533-9632-4d03-bb95-f8dc8ad12988",
   "metadata": {},
   "source": [
    "## Transfering problem to Qiskit"
   ]
  },
  {
   "cell_type": "markdown",
   "id": "736fe1b7-cb71-423b-9ed0-9d7b30e913d4",
   "metadata": {},
   "source": [
    "In this part of the code I rely on the [Qiskit Tutorials](https://qiskit.org/documentation/optimization/tutorials/10_warm_start_qaoa.html)."
   ]
  },
  {
   "cell_type": "markdown",
   "id": "3ab11ca8-4dc4-442a-8474-7d256b0caedf",
   "metadata": {},
   "source": [
    "### Importing Qiskit and Amazon braket"
   ]
  },
  {
   "cell_type": "code",
   "execution_count": 8,
   "id": "d0a9e31b-2c3d-405b-9d4f-7ff6e05f41f3",
   "metadata": {},
   "outputs": [],
   "source": [
    "from qiskit import IBMQ\n",
    "\n",
    "provider = IBMQ.load_account()\n",
    "backend = provider.get_backend('ibmq_qasm_simulator')"
   ]
  },
  {
   "cell_type": "markdown",
   "id": "51f20698-c184-4678-ba3e-e1f4364c6066",
   "metadata": {},
   "source": [
    "### Transforming QUBO in Ocean to QUBO in Qiskit "
   ]
  },
  {
   "cell_type": "code",
   "execution_count": null,
   "id": "faeb26c7-1237-4128-b8cb-a598d0f9523c",
   "metadata": {},
   "outputs": [],
   "source": [
    "# TODO"
   ]
  }
 ],
 "metadata": {
  "kernelspec": {
   "display_name": "Python 3 (ipykernel)",
   "language": "python",
   "name": "python3"
  },
  "language_info": {
   "codemirror_mode": {
    "name": "ipython",
    "version": 3
   },
   "file_extension": ".py",
   "mimetype": "text/x-python",
   "name": "python",
   "nbconvert_exporter": "python",
   "pygments_lexer": "ipython3",
   "version": "3.10.2"
  }
 },
 "nbformat": 4,
 "nbformat_minor": 5
}
